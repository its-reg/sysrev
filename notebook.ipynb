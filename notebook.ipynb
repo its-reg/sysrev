{
 "cells": [
  {
   "cell_type": "markdown",
   "id": "7bebaa39",
   "metadata": {},
   "source": [
    "References:\n",
    "* https://pypi.org/project/systematic-reviewpy/\n",
    "* https://github.com/chandraveshchaudhari/systematic-reviewpy\n",
    "\n",
    "Installation\n"
   ]
  },
  {
   "cell_type": "code",
   "execution_count": null,
   "id": "45ccf2ef",
   "metadata": {},
   "outputs": [
    {
     "ename": "",
     "evalue": "",
     "output_type": "error",
     "traceback": [
      "\u001b[1;31mRunning cells with '.venv (Python 3.12.8)' requires the ipykernel package.\n",
      "\u001b[1;31mInstall 'ipykernel' into the Python environment. \n",
      "\u001b[1;31mCommand: '\"//file/Usersr$/rch226/Home/My Documents/GitHub/sysrev/.venv/Scripts/python.exe\" -m pip install ipykernel -U --force-reinstall'"
     ]
    }
   ],
   "source": [
    ".\\.venv\\Scripts\\Activate.ps1"
   ]
  },
  {
   "cell_type": "code",
   "execution_count": null,
   "id": "494c27d7",
   "metadata": {},
   "outputs": [],
   "source": []
  }
 ],
 "metadata": {
  "kernelspec": {
   "display_name": ".venv",
   "language": "python",
   "name": "python3"
  },
  "language_info": {
   "name": "python",
   "version": "3.12.8"
  }
 },
 "nbformat": 4,
 "nbformat_minor": 5
}
